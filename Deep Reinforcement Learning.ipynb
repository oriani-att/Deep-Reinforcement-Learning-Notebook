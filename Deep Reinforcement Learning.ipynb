{
  "cells": [
    {
      "cell_type": "markdown",
      "metadata": {
        "id": "OH0oMjRZrCyR"
      },
      "source": [
        "# <center> Oriani Luca"
      ]
    },
    {
      "cell_type": "markdown",
      "metadata": {
        "id": "UhD91LWkfn6c"
      },
      "source": [
        "[You can find the original paper here](https://arxiv.org/pdf/1602.01783.pdf)."
      ]
    },
    {
      "cell_type": "markdown",
      "metadata": {
        "id": "Kqmm1rDvfwld"
      },
      "source": [
        "## Introduction\n",
        "\n",
        "In this tutorial we will focus on Deep Reinforcement Learning with **REINFORCE**. This tutorial is composed of:\n",
        "* An introduction to the deep learning framework: **PyTorch**\n",
        "* A quick reminder of the RL setting,\n",
        "* A theoritical and coding approch of Reinforce\n",
        "\n",
        "### Table of contents\n",
        "[I. Introduction to PyTorch](#partI)<br>\n",
        "[II. Reinforcement Learning setting](#partII)<br>\n",
        "[III. Implementation of REINFORCE](#partIII)<br>"
      ]
    },
    {
      "cell_type": "markdown",
      "metadata": {
        "id": "9IMogo4O2Psm"
      },
      "source": [
        "# I. Introduction to PyTorch <a id='partI'></a>"
      ]
    },
    {
      "cell_type": "markdown",
      "metadata": {
        "id": "wb3zjWAK1JHw"
      },
      "source": [
        "*If you already know PyTorch you can skip this part. From this part on we assume that you have some experience with Python and Numpy. This part is extracted from PyTorch docs.*\n",
        "\n",
        "PyTorch is a Python package that provides two high-level features:\n",
        "- Tensor computation (like NumPy) with strong GPU acceleration\n",
        "- Deep neural networks built on a tape-based autograd system\n",
        "\n",
        "At a granular level, PyTorch is a library that consists of the following components:\n",
        "\n",
        "| Component | Description |\n",
        "| ---- | --- |\n",
        "| [**torch**](https://pytorch.org/docs/stable/torch.html) | a Tensor library like NumPy, with strong GPU support |\n",
        "| [**torch.autograd**](https://pytorch.org/docs/stable/autograd.html) | a tape-based automatic differentiation library that supports all differentiable Tensor operations in torch |\n",
        "| [**torch.jit**](https://pytorch.org/docs/stable/jit.html) | a compilation stack (TorchScript) to create serializable and optimizable models from PyTorch code  |\n",
        "| [**torch.nn**](https://pytorch.org/docs/stable/nn.html) | a neural networks library deeply integrated with autograd designed for maximum flexibility |\n",
        "| [**torch.multiprocessing**](https://pytorch.org/docs/stable/multiprocessing.html) | Python multiprocessing, but with magical memory sharing of torch Tensors across processes. Useful for data loading and Hogwild training |\n",
        "| [**torch.utils**](https://pytorch.org/docs/stable/data.html) | DataLoader and other utility functions for convenience |\n",
        "\n"
      ]
    },
    {
      "cell_type": "markdown",
      "metadata": {
        "id": "ZQvV_HcC1ZTy"
      },
      "source": [
        "**AUTOMATIC DIFFERENTIATION**\n",
        "\n",
        "The autograd package provides automatic differentiation for all operations on Tensors. It is a define-by-run framework, which means that your backprop is defined by how your code is run, and that every single iteration can be different.\n",
        "\n",
        "``torch.Tensor`` is the central class of the package. If you set its attribute\n",
        "``.requires_grad`` as ``True``, it starts to track all operations on it. When\n",
        "you finish your computation you can call ``.backward()`` and have all the\n",
        "gradients computed automatically. The gradient for this tensor will be\n",
        "accumulated into ``.grad`` attribute.\n",
        "\n",
        "To stop a tensor from tracking history, you can call ``.detach()`` to detach\n",
        "it from the computation history, and to prevent future computation from being\n",
        "tracked.\n",
        "\n",
        "To prevent tracking history (and using memory), you can also wrap the code block\n",
        "in ``with torch.no_grad():``. This can be particularly helpful when evaluating a\n",
        "model because the model may have trainable parameters with\n",
        "``requires_grad=True``, but for which we don't need the gradients.\n",
        "\n",
        "There’s one more class which is very important for autograd\n",
        "implementation - a ``Function``.\n",
        "\n",
        "``Tensor`` and ``Function`` are interconnected and build up an acyclic\n",
        "graph, that encodes a complete history of computation. Each tensor has\n",
        "a ``.grad_fn`` attribute that references a ``Function`` that has created\n",
        "the ``Tensor`` (except for Tensors created by the user - their\n",
        "``grad_fn is None``).\n",
        "\n",
        "If you want to compute the derivatives, you can call ``.backward()`` on\n",
        "a ``Tensor``. If ``Tensor`` is a scalar (i.e. it holds a one element\n",
        "data), you don’t need to specify any arguments to ``backward()``,\n",
        "however if it has more elements, you need to specify a ``gradient``\n",
        "argument that is a tensor of matching shape."
      ]
    },
    {
      "cell_type": "markdown",
      "metadata": {
        "id": "rCLv8aZR1oTL"
      },
      "source": [
        "# II. Reminder of the RL setting <a id='partII'></a>\n",
        "\n",
        "As always we will consider a MDP $M = (\\mathcal{S}, \\mathcal{A}, p, r, \\gamma)$ with:\n",
        "* $\\mathcal{S}$ the state space,\n",
        "* $\\mathcal{A}$ the action space,\n",
        "* $p(x^\\prime \\mid x, a)$ the transition probability,\n",
        "* $r(x, a, x^\\prime)$ the reward of the transition $(x, a, x^\\prime)$,\n",
        "* $\\gamma \\in [0,1)$ is the discount factor.\n",
        "\n",
        "A policy $\\pi$ is a mapping from the state space $\\mathcal{S}$ to the probability of selecting each action.\n",
        "\n",
        "The action value function of a policy is the overall expected reward from a state action. $Q^\\pi(s, a) = \\mathbb{E}_{\\tau \\sim \\pi}\\big[R(\\tau) \\mid s_0=s, a_0=a\\big]$ where $\\tau$ is an episode $(s_0, a_0, r_0, s_1, a_1, r_1, s_2, ..., s_T, a_T, r_T)$ with the actions drawn from $\\pi(s)$; $R(\\tau)$ is the random variable defined as the cumulative sum of the discounted reward.\n",
        "\n",
        "The goal is to maximize the agent's reward.\n",
        "\n",
        "$$ J(\\pi) = \\mathbb{E}_{\\tau \\sim \\pi}\\big[R(\\tau) \\big]$$\n"
      ]
    },
    {
      "cell_type": "markdown",
      "metadata": {
        "id": "Q8UznZkj1oWP"
      },
      "source": [
        "## Gym Environment\n",
        "\n",
        "In this lab and also the next one we are going to use the [OpenAI's Gym library](https://gymnasium.farama.org/api/env/). This library provides a large number of environments to test RL algorithm.\n",
        "\n",
        "We will focus on the **CartPole-v1** environment in this lab but we encourage you to also test your code on:\n",
        "* **Acrobot-v1**\n",
        "* **MountainCar-v0**\n",
        "\n",
        "| Env Info          \t| CartPole-v1 \t| Acrobot-v1                \t| MountainCar-v0 \t|\n",
        "|-------------------\t|-------------\t|---------------------------\t|----------------\t|\n",
        "| **Observation Space** \t| Box(4)      \t| Box(6)                    \t| Box(2)         \t|\n",
        "| **Action Space**      \t| Discrete(2) \t| Discrete(3)               \t| Discrete(3)    \t|\n",
        "| **Rewards**           \t| 1 per step  \t| -1 if not terminal else 0 \t| -1 per step    \t|\n",
        "\n",
        "A gym environment is loaded with the command `env = gym.make(env_id)`. Once the environment is created, you need to reset it with `observation = env.reset()` and then you can interact with it using the method step: `observation, reward, done, info = env.step(action)`."
      ]
    },
    {
      "cell_type": "markdown",
      "metadata": {
        "id": "ZRmKTspOsGcW"
      },
      "source": [
        "### **Section 1: Exploring the CartPole Environment with Gymnasium**\n"
      ]
    },
    {
      "cell_type": "markdown",
      "metadata": {
        "id": "oM_M18YkoteK"
      },
      "source": [
        "**Setup: Install the required packages**"
      ]
    },
    {
      "cell_type": "code",
      "execution_count": null,
      "metadata": {
        "colab": {
          "base_uri": "https://localhost:8080/"
        },
        "id": "6-aDeh0HovMF",
        "outputId": "d42aa976-6699-49eb-fdb2-c84a47d3690f"
      },
      "outputs": [
        {
          "name": "stdout",
          "output_type": "stream",
          "text": [
            "Requirement already satisfied: numpy in /usr/local/lib/python3.10/dist-packages (1.26.4)\n",
            "Requirement already satisfied: matplotlib in /usr/local/lib/python3.10/dist-packages (3.8.0)\n",
            "Collecting gymnasium==0.28.1\n",
            "  Downloading gymnasium-0.28.1-py3-none-any.whl.metadata (9.2 kB)\n",
            "Requirement already satisfied: imageio in /usr/local/lib/python3.10/dist-packages (2.36.0)\n",
            "Collecting ffmpeg\n",
            "  Downloading ffmpeg-1.4.tar.gz (5.1 kB)\n",
            "  Preparing metadata (setup.py) ... \u001b[?25l\u001b[?25hdone\n",
            "Requirement already satisfied: pillow in /usr/local/lib/python3.10/dist-packages (11.0.0)\n",
            "Collecting jax-jumpy>=1.0.0 (from gymnasium==0.28.1)\n",
            "  Downloading jax_jumpy-1.0.0-py3-none-any.whl.metadata (15 kB)\n",
            "Requirement already satisfied: cloudpickle>=1.2.0 in /usr/local/lib/python3.10/dist-packages (from gymnasium==0.28.1) (3.1.0)\n",
            "Requirement already satisfied: typing-extensions>=4.3.0 in /usr/local/lib/python3.10/dist-packages (from gymnasium==0.28.1) (4.12.2)\n",
            "Collecting farama-notifications>=0.0.1 (from gymnasium==0.28.1)\n",
            "  Downloading Farama_Notifications-0.0.4-py3-none-any.whl.metadata (558 bytes)\n",
            "Requirement already satisfied: contourpy>=1.0.1 in /usr/local/lib/python3.10/dist-packages (from matplotlib) (1.3.1)\n",
            "Requirement already satisfied: cycler>=0.10 in /usr/local/lib/python3.10/dist-packages (from matplotlib) (0.12.1)\n",
            "Requirement already satisfied: fonttools>=4.22.0 in /usr/local/lib/python3.10/dist-packages (from matplotlib) (4.55.0)\n",
            "Requirement already satisfied: kiwisolver>=1.0.1 in /usr/local/lib/python3.10/dist-packages (from matplotlib) (1.4.7)\n",
            "Requirement already satisfied: packaging>=20.0 in /usr/local/lib/python3.10/dist-packages (from matplotlib) (24.2)\n",
            "Requirement already satisfied: pyparsing>=2.3.1 in /usr/local/lib/python3.10/dist-packages (from matplotlib) (3.2.0)\n",
            "Requirement already satisfied: python-dateutil>=2.7 in /usr/local/lib/python3.10/dist-packages (from matplotlib) (2.8.2)\n",
            "Requirement already satisfied: six>=1.5 in /usr/local/lib/python3.10/dist-packages (from python-dateutil>=2.7->matplotlib) (1.16.0)\n",
            "Downloading gymnasium-0.28.1-py3-none-any.whl (925 kB)\n",
            "\u001b[2K   \u001b[90m━━━━━━━━━━━━━━━━━━━━━━━━━━━━━━━━━━━━━━━━\u001b[0m \u001b[32m925.5/925.5 kB\u001b[0m \u001b[31m13.4 MB/s\u001b[0m eta \u001b[36m0:00:00\u001b[0m\n",
            "\u001b[?25hDownloading Farama_Notifications-0.0.4-py3-none-any.whl (2.5 kB)\n",
            "Downloading jax_jumpy-1.0.0-py3-none-any.whl (20 kB)\n",
            "Building wheels for collected packages: ffmpeg\n",
            "  Building wheel for ffmpeg (setup.py) ... \u001b[?25l\u001b[?25hdone\n",
            "  Created wheel for ffmpeg: filename=ffmpeg-1.4-py3-none-any.whl size=6082 sha256=3292d36190c0c9f739d5e2a5e2501eb8e6531323d3759185c07f5483553b6137\n",
            "  Stored in directory: /root/.cache/pip/wheels/8e/7a/69/cd6aeb83b126a7f04cbe7c9d929028dc52a6e7d525ff56003a\n",
            "Successfully built ffmpeg\n",
            "Installing collected packages: ffmpeg, farama-notifications, jax-jumpy, gymnasium\n",
            "Successfully installed farama-notifications-0.0.4 ffmpeg-1.4 gymnasium-0.28.1 jax-jumpy-1.0.0\n"
          ]
        }
      ],
      "source": [
        "# Run this cell to install necessary packages\n",
        "!pip install numpy matplotlib gymnasium==0.28.1 imageio ffmpeg pillow"
      ]
    },
    {
      "cell_type": "markdown",
      "metadata": {
        "id": "fIg-WFzQsArx"
      },
      "source": [
        "#### Import Libraries"
      ]
    },
    {
      "cell_type": "code",
      "execution_count": null,
      "metadata": {
        "id": "0waNMOoNowkx"
      },
      "outputs": [],
      "source": [
        "import base64\n",
        "import itertools\n",
        "import numpy as np\n",
        "import pandas as pd\n",
        "import seaborn as sns\n",
        "\n",
        "import torch\n",
        "import torch.nn as nn\n",
        "import torch.optim as optim\n",
        "from torch.utils.tensorboard import SummaryWriter\n",
        "\n",
        "from pathlib import Path\n",
        "\n",
        "import imageio\n",
        "from PIL import Image\n",
        "import IPython.display as ipythondisplay\n",
        "\n",
        "import gymnasium as gym\n",
        "from gymnasium.wrappers import RecordVideo"
      ]
    },
    {
      "cell_type": "markdown",
      "metadata": {
        "id": "olFOzN6AshEr"
      },
      "source": [
        "**Tool: Display Video of Environment Interactions**\n",
        "\n",
        "This function displays recorded videos of the environment, allowing us to visualize how different actions affect the CartPole environment."
      ]
    },
    {
      "cell_type": "code",
      "execution_count": null,
      "metadata": {
        "id": "IpZmRyFUq4FJ"
      },
      "outputs": [],
      "source": [
        "# Define a directory to save the videos\n",
        "video_dir = Path(\"./video\")\n",
        "video_dir.mkdir(exist_ok=True)\n",
        "\n",
        "# Define target width and height for video frames to avoid resizing warnings\n",
        "target_width, target_height = 608, 400\n",
        "\n",
        "def record_video(env_name, video_name, policy_func, steps=10):\n",
        "    \"\"\"\n",
        "    Records a video of the environment following a specified policy.\n",
        "\n",
        "    Parameters:\n",
        "    - env_name (str): Name of the environment.\n",
        "    - video_name (str): Name for the output video file.\n",
        "    - policy_func (function): A function that defines the policy (action selection).\n",
        "    - steps (int): Number of steps to record.\n",
        "    \"\"\"\n",
        "    env = gym.make(env_name, render_mode=\"rgb_array\")\n",
        "    state, _ = env.reset()\n",
        "    video_path = video_dir / f\"{video_name}.mp4\"\n",
        "    writer = imageio.get_writer(video_path, fps=30)\n",
        "\n",
        "    for t in range(steps):\n",
        "        action = policy_func(env)  # Get action from the policy function\n",
        "        state, reward, done, truncated, _ = env.step(action)\n",
        "\n",
        "        # Capture and resize the frame\n",
        "        frame = env.render()\n",
        "        resized_frame = np.array(Image.fromarray(frame).resize((target_width, target_height)))\n",
        "        writer.append_data(resized_frame)\n",
        "\n",
        "        if done or truncated:\n",
        "            break\n",
        "\n",
        "    writer.close()\n",
        "    env.close()\n",
        "\n",
        "def show_video(directory):\n",
        "    \"\"\"\n",
        "    Display all .mp4 video files from the specified directory in the notebook.\n",
        "    \"\"\"\n",
        "    html = []\n",
        "    for mp4 in Path(directory).glob(\"*.mp4\"):\n",
        "        video_b64 = base64.b64encode(mp4.read_bytes())\n",
        "        html.append(f'''<video alt=\"{mp4}\" autoplay\n",
        "                      loop controls style=\"height: 400px;\">\n",
        "                      <source src=\"data:video/mp4;base64,{video_b64.decode('ascii')}\" type=\"video/mp4\" />\n",
        "                 </video>''')\n",
        "    ipythondisplay.display(ipythondisplay.HTML(data=\"<br>\".join(html)))"
      ]
    },
    {
      "cell_type": "markdown",
      "metadata": {
        "id": "ZWZgLavwtrv_"
      },
      "source": [
        "#### **Question 1**: Initialize the *CartPole-v1* environment using *gymnasium*. Print the observation space and action space, reset the environment, and print the initial observation."
      ]
    },
    {
      "cell_type": "markdown",
      "metadata": {
        "id": "Ucvipv3yt2h-"
      },
      "source": [
        "**Solution**"
      ]
    },
    {
      "cell_type": "code",
      "execution_count": null,
      "metadata": {
        "colab": {
          "base_uri": "https://localhost:8080/"
        },
        "id": "MWGTheprssWu",
        "outputId": "808a7459-5f87-4d1b-aafb-c174f1e79a0d"
      },
      "outputs": [
        {
          "name": "stdout",
          "output_type": "stream",
          "text": [
            "Observation Space: Box([-4.8000002e+00 -3.4028235e+38 -4.1887903e-01 -3.4028235e+38], [4.8000002e+00 3.4028235e+38 4.1887903e-01 3.4028235e+38], (4,), float32)\n",
            "Action Space: Discrete(2)\n",
            "Initial Observation: [ 0.04803439  0.00930212 -0.03500086 -0.00886625]\n"
          ]
        }
      ],
      "source": [
        "# Initialize CartPole environment\n",
        "env = gym.make(\"CartPole-v1\")\n",
        "\n",
        "# Print observation and action spaces\n",
        "print(\"Observation Space:\", env.observation_space)\n",
        "print(\"Action Space:\", env.action_space)\n",
        "\n",
        "# Reset environment and print initial observation\n",
        "observation, info = env.reset()\n",
        "print(\"Initial Observation:\", observation)"
      ]
    },
    {
      "cell_type": "markdown",
      "metadata": {
        "id": "ArRKshjbt_Zy"
      },
      "source": [
        "#### **Question 2:** Do the same for the following environments: *Acrobot-v1* and *MountainCar-v0*. For each environment, initialize it, print the observation and action space, reset it, and display the initial observation."
      ]
    },
    {
      "cell_type": "code",
      "execution_count": null,
      "metadata": {
        "colab": {
          "base_uri": "https://localhost:8080/"
        },
        "id": "_rHGP6kTsqZr",
        "outputId": "6232ca32-9c88-4d67-91f3-abeec1567bdd"
      },
      "outputs": [
        {
          "name": "stdout",
          "output_type": "stream",
          "text": [
            "Acrobot-v1 Observation Space: Box([ -1.        -1.        -1.        -1.       -12.566371 -28.274334], [ 1.        1.        1.        1.       12.566371 28.274334], (6,), float32)\n",
            "Acrobot-v1 Action Space: Discrete(3)\n",
            "Acrobot-v1 Initial Observation: [ 0.99960756 -0.02801247  0.9978014   0.06627482 -0.07648531 -0.02614411]\n",
            "MountainCar-v0 Observation Space: Box([-1.2  -0.07], [0.6  0.07], (2,), float32)\n",
            "MountainCar-v0 Action Space: Discrete(3)\n",
            "MountainCar-v0 Initial Observation: [-0.59175295  0.        ]\n"
          ]
        }
      ],
      "source": [
        "# Solution for Acrobot\n",
        "env_acrobot = gym.make(\"Acrobot-v1\")\n",
        "print(\"Acrobot-v1 Observation Space:\", env_acrobot.observation_space)\n",
        "print(\"Acrobot-v1 Action Space:\", env_acrobot.action_space)\n",
        "observation_acrobot, info_acrobot = env_acrobot.reset()\n",
        "print(\"Acrobot-v1 Initial Observation:\", observation_acrobot)\n",
        "\n",
        "# Solution for MountainCar\n",
        "env_mountaincar = gym.make(\"MountainCar-v0\")\n",
        "print(\"MountainCar-v0 Observation Space:\", env_mountaincar.observation_space)\n",
        "print(\"MountainCar-v0 Action Space:\", env_mountaincar.action_space)\n",
        "observation_mountaincar, info_mountaincar = env_mountaincar.reset()\n",
        "print(\"MountainCar-v0 Initial Observation:\", observation_mountaincar)"
      ]
    },
    {
      "cell_type": "markdown",
      "metadata": {
        "id": "O4iDjshHuNYv"
      },
      "source": [
        "#### **Question 3:** Describe the objective of each environment (CartPole, Acrobot, MountainCar). For each environment, specify the roles of observations, actions, and rewards."
      ]
    },
    {
      "cell_type": "markdown",
      "metadata": {
        "id": "T3ftaWLogDgC"
      },
      "source": [
        "#### **Solution:**\n",
        "\n",
        "CartPole-v1\n",
        "\n",
        "Objective: Balance a pole on a moving cart for as long as possible. The goal is to prevent the pole from falling over or the cart from moving out of bounds.\n",
        "\n",
        "    Observations: A 4-dimensional vector:\n",
        "        Cart position.\n",
        "        Cart velocity.\n",
        "        Pole angle.\n",
        "        Pole angular velocity. These values help determine the state of the system for controlling the pole.\n",
        "\n",
        "    Actions:\n",
        "        Discrete(2): Two possible actions:\n",
        "            Push the cart to the left.\n",
        "            Push the cart to the right.\n",
        "\n",
        "    Rewards:\n",
        "        +1 reward for every time step the pole remains upright.\n",
        "        The episode terminates if:\n",
        "            The pole angle exceeds ±12 degrees.\n",
        "            The cart position exceeds ±2.4 units.\n",
        "            The pole remains balanced for 500 time steps (success).\n",
        "\n",
        "Acrobot-v1\n",
        "\n",
        "Objective: Swing the bottom link of a two-link robotic arm upward to reach a specific height. The agent must use the dynamics of the arm to achieve this goal.\n",
        "\n",
        "    Observations: A 6-dimensional vector:\n",
        "        Cosine of the angle of the first joint.\n",
        "        Sine of the angle of the first joint.\n",
        "        Cosine of the angle of the second joint.\n",
        "        Sine of the angle of the second joint.\n",
        "        Angular velocity of the first joint.\n",
        "        Angular velocity of the second joint. These values describe the configuration and motion of the two-link arm.\n",
        "\n",
        "    Actions:\n",
        "        Discrete(3): Three possible actions:\n",
        "            Apply torque to the first joint in the negative direction.\n",
        "            Apply torque to the first joint in the positive direction.\n",
        "            Apply no torque.\n",
        "\n",
        "    Rewards:\n",
        "        A reward of -1 for every time step until the goal is reached.\n",
        "        The episode terminates when the tip of the arm reaches a height greater than the predefined target (indicating success) or after 500 time steps (failure).\n",
        "\n",
        "MountainCar-v0\n",
        "\n",
        "Objective: Drive a car up a steep hill to reach the goal. The car does not have enough power to directly reach the goal, so it must build momentum by oscillating between hills.\n",
        "\n",
        "    Observations: A 2-dimensional vector:\n",
        "        Car position along the track.\n",
        "        Car velocity. These values describe the car’s state and help determine how much momentum is needed.\n",
        "\n",
        "    Actions:\n",
        "        Discrete(3): Three possible actions:\n",
        "            Accelerate left.\n",
        "            Accelerate right.\n",
        "            Do nothing.\n",
        "\n",
        "    Rewards:\n",
        "        A reward of -1 for each time step until the car reaches the goal.\n",
        "        The episode terminates when:\n",
        "            The car reaches a position greater than or equal to 0.5 (goal reached).\n",
        "            The episode reaches a maximum of 200 time steps (failure)."
      ]
    },
    {
      "cell_type": "markdown",
      "metadata": {
        "id": "_dqQh038ujYH"
      },
      "source": [
        "#### **Question 4:** Run a random policy for 10 steps in each environment (CartPole, Acrobot, MountainCar), record the interactions as videos, and display them. Use the show_video function to visualize the results."
      ]
    },
    {
      "cell_type": "markdown",
      "metadata": {
        "id": "fuPtFsj4vmrM"
      },
      "source": [
        "#### **Solution**"
      ]
    },
    {
      "cell_type": "code",
      "execution_count": null,
      "metadata": {
        "id": "Df9-svV4rgMm"
      },
      "outputs": [],
      "source": [
        "# Define a random policy\n",
        "def random_policy(env):\n",
        "    # Choose a random action\n",
        "    return env.action_space.sample()"
      ]
    },
    {
      "cell_type": "code",
      "execution_count": null,
      "metadata": {
        "id": "88PDu_Vq35ZW"
      },
      "outputs": [],
      "source": [
        "# Record video for each environment with random policy\n",
        "record_video(\"CartPole-v1\", \"random_policy_cartpole\", random_policy, steps=10)\n",
        "record_video(\"Acrobot-v1\", \"random_policy_acrobot\", random_policy, steps=10)\n",
        "record_video(\"MountainCar-v0\", \"random_policy_mountaincar\", random_policy, steps=10)"
      ]
    },
    {
      "cell_type": "code",
      "execution_count": null,
      "metadata": {
        "colab": {
          "base_uri": "https://localhost:8080/",
          "height": 1000
        },
        "id": "ifZqdHLZ39O_",
        "outputId": "6200479a-3af1-4b92-88be-89345af73e69"
      },
      "outputs": [
        {
          "data": {
            "text/html": [
              "<video alt=\"video/random_policy_cartpole.mp4\" autoplay\n",
              "                      loop controls style=\"height: 400px;\">\n",
              "                      <source src=\"data:video/mp4;base64,AAAAIGZ0eXBpc29tAAACAGlzb21pc28yYXZjMW1wNDEAAAAIZnJlZQAABxNtZGF0AAACrgYF//+q3EXpvebZSLeWLNgg2SPu73gyNjQgLSBjb3JlIDE1OSByMjk5MSAxNzcxYjU1IC0gSC4yNjQvTVBFRy00IEFWQyBjb2RlYyAtIENvcHlsZWZ0IDIwMDMtMjAxOSAtIGh0dHA6Ly93d3cudmlkZW9sYW4ub3JnL3gyNjQuaHRtbCAtIG9wdGlvbnM6IGNhYmFjPTEgcmVmPTMgZGVibG9jaz0xOjA6MCBhbmFseXNlPTB4MzoweDExMyBtZT1oZXggc3VibWU9NyBwc3k9MSBwc3lfcmQ9MS4wMDowLjAwIG1peGVkX3JlZj0xIG1lX3JhbmdlPTE2IGNocm9tYV9tZT0xIHRyZWxsaXM9MSA4eDhkY3Q9MSBjcW09MCBkZWFkem9uZT0yMSwxMSBmYXN0X3Bza2lwPTEgY2hyb21hX3FwX29mZnNldD0tMiB0aHJlYWRzPTMgbG9va2FoZWFkX3RocmVhZHM9MSBzbGljZWRfdGhyZWFkcz0wIG5yPTAgZGVjaW1hdGU9MSBpbnRlcmxhY2VkPTAgYmx1cmF5X2NvbXBhdD0wIGNvbnN0cmFpbmVkX2ludHJhPTAgYmZyYW1lcz0zIGJfcHlyYW1pZD0yIGJfYWRhcHQ9MSBiX2JpYXM9MCBkaXJlY3Q9MSB3ZWlnaHRiPTEgb3Blbl9nb3A9MCB3ZWlnaHRwPTIga2V5aW50PTI1MCBrZXlpbnRfbWluPTI1IHNjZW5lY3V0PTQwIGludHJhX3JlZnJlc2g9MCByY19sb29rYWhlYWQ9NDAgcmM9Y3JmIG1idHJlZT0xIGNyZj0yMy4wIHFjb21wPTAuNjAgcXBtaW49MCBxcG1heD02OSBxcHN0ZXA9NCBpcF9yYXRpbz0xLjQwIGFxPTE6MS4wMACAAAABy2WIhAA3//728P4FNjuY0JcRzeidMx+/Fbi6NDe9zgAAAwAAAwAACNCLwW1jsC2M+AAABagA5AeIYoYAiYqxUCV5A8Fo+UgCsAi1Hv6QcV0rPX2fU7AuIRc/pEiQJkIeaXwZK04Z+en3gvjgqNU0I8NNWG0FCgo/XpTUC/6au2hR/yPEEPf9qRlGSxvpN/XVAwAdyzvm0QlGhr8M9AOtyVjWiyqs7AAC6ATMxOLjmc94Zl0aURgBZetQb31Rfa+GD5TCcrZbggZRFRJHqrmkeXMOTouxVEqt6vSxzohjo6x1Rp26IeYt0HRwyIzHSdVB4+giH5JHTJAMcAYXxNSeiCnuVX/hKNyEGJGzSrk6rWZ5/X533YcTHD2qow+MdRN9yb4UFJOPzS8T1ZfRtC1z3JudSlsdAPC1nP/2gC1Rldr/JCHOb9JnIrpo8J3igURygeltqQkHhEVV1esY5zDsTPY4jsNBQ7GC6Lh5DSmuOEUL3cZPh3wyKVyQ9ZLQBAAsbftctAC976s3bAC5aSdGI+ZduZmkf9QjdvjPNLyFmcF2Egt71DriWhP4bbaAPRIEykGh8VAAIgAAAwLYuAAAAwAAAwAAAwAAAwA6YQAAAG5BmiRsQz/+nhAAAEVJs/3bu2T4NQCXXrVzGV1GveLgnmaSgzp99kivddYq/gkgl9J/HKzSOsbYWp/459LsT9hG2VO56lRge659nlZBiUG8ksxLNFNBvpp5+/zpVYpJqZJny0rVvv6Hq+AdusQf4AAAAE9BnkJ4hX8AAA6Dk+0So82yAEtaj2s5Ou2fHLwBVHe75RBZe//wWxVsckHwYnDc58e3e34rJebQhBegH5YrsUu8CWbl1iRkyA6ND2veqgK3AAAAIwGeYXRCfwAAEt9nr7jEDPADr1CJ5B0RGlhuGBzTgfHsPtmAAAAAGwGeY2pCfwAAEt21o/mDJyA3kxvdfVtft149IQAAAFNBmmhJqEFomUwIV//+OEAAAQ0+t4hBy3AHQ7tYfQ8PNPM6YGreojpgCHBf9rJ0M80NEM2IbvRomCvROFobzv/P2BWlp4R9/5BgWf6ayg/YWndGGQAAAEJBnoZFESwr/wAADoAOw6GfRAC3qAdlkiJZLMQ+T2+u5ycqAKpTAJzx365YckQjPjzENziPJgAAAwAABKZSLwywQ8EAAABCAZ6ldEJ/AAAS1pPMCJUe4vOreF30kh+lzxSLQLz++BYGLje0btBRrwfM57QAeBZkAQU5N44ggvpBSU3LTfvf4d4NAAAALgGep2pCfwAAAwKzHXHEe6JmXH7dSnmp1pkBZH8+je0mOWRTq1PhxtnP11lhUYAAAABmQZqpSahBbJlMCE///fEAAAMCnwUU+8/McRkAb+e5V85Kh0VABtsB5tyYZYcvtQ0Kd3+Ozf0BvolkjRgJseLalz5jk09Pj/XiyP2VmmECVIkWiCeXT7qulsIxTk4pe0uyDS7xC5leAAADim1vb3YAAABsbXZoZAAAAAAAAAAAAAAAAAAAA+gAAAFOAAEAAAEAAAAAAAAAAAAAAAABAAAAAAAAAAAAAAAAAAAAAQAAAAAAAAAAAAAAAAAAQAAAAAAAAAAAAAAAAAAAAAAAAAAAAAAAAAAAAAAAAAIAAAK0dHJhawAAAFx0a2hkAAAAAwAAAAAAAAAAAAAAAQAAAAAAAAFOAAAAAAAAAAAAAAAAAAAAAAABAAAAAAAAAAAAAAAAAAAAAQAAAAAAAAAAAAAAAAAAQAAAAAJgAAABkAAAAAAAJGVkdHMAAAAcZWxzdAAAAAAAAAABAAABTgAABAAAAQAAAAACLG1kaWEAAAAgbWRoZAAAAAAAAAAAAAAAAAAAPAAAABQAVcQAAAAAAC1oZGxyAAAAAAAAAAB2aWRlAAAAAAAAAAAAAAAAVmlkZW9IYW5kbGVyAAAAAddtaW5mAAAAFHZtaGQAAAABAAAAAAAAAAAAAAAkZGluZgAAABxkcmVmAAAAAAAAAAEAAAAMdXJsIAAAAAEAAAGXc3RibAAAAJdzdHNkAAAAAAAAAAEAAACHYXZjMQAAAAAAAAABAAAAAAAAAAAAAAAAAAAAAAJgAZAASAAAAEgAAAAAAAAAAQAAAAAAAAAAAAAAAAAAAAAAAAAAAAAAAAAAAAAAAAAAABj//wAAADFhdmNDAWQAHv/hABhnZAAerNlAmDOhAAADAAEAAAMAPA8WLZYBAAZo6+PLIsAAAAAYc3R0cwAAAAAAAAABAAAACgAAAgAAAAAUc3RzcwAAAAAAAAABAAAAAQAAAGBjdHRzAAAAAAAAAAoAAAABAAAEAAAAAAEAAAoAAAAAAQAABAAAAAABAAAAAAAAAAEAAAIAAAAAAQAACgAAAAABAAAEAAAAAAEAAAAAAAAAAQAAAgAAAAABAAAEAAAAABxzdHNjAAAAAAAAAAEAAAABAAAACgAAAAEAAAA8c3RzegAAAAAAAAAAAAAACgAABIEAAAByAAAAUwAAACcAAAAfAAAAVwAAAEYAAABGAAAAMgAAAGoAAAAUc3RjbwAAAAAAAAABAAAAMAAAAGJ1ZHRhAAAAWm1ldGEAAAAAAAAAIWhkbHIAAAAAAAAAAG1kaXJhcHBsAAAAAAAAAAAAAAAALWlsc3QAAAAlqXRvbwAAAB1kYXRhAAAAAQAAAABMYXZmNTguMjkuMTAw\" type=\"video/mp4\" />\n",
              "                 </video><br><video alt=\"video/random_policy_mountaincar.mp4\" autoplay\n",
              "                      loop controls style=\"height: 400px;\">\n",
              "                      <source src=\"data:video/mp4;base64,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\" type=\"video/mp4\" />\n",
              "                 </video><br><video alt=\"video/random_policy_acrobot.mp4\" autoplay\n",
              "                      loop controls style=\"height: 400px;\">\n",
              "                      <source src=\"data:video/mp4;base64,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\" type=\"video/mp4\" />\n",
              "                 </video>"
            ],
            "text/plain": [
              "<IPython.core.display.HTML object>"
            ]
          },
          "metadata": {},
          "output_type": "display_data"
        }
      ],
      "source": [
        "# Display recorded videos\n",
        "show_video(video_dir)"
      ]
    },
    {
      "cell_type": "markdown",
      "metadata": {
        "id": "nBD6GQWYwCta"
      },
      "source": [
        "#### **Question 5:**  What are the differences between discrete and continuous action spaces in reinforcement learning? Identify whether the CartPole, Acrobot, and MountainCar environments have discrete or continuous action spaces."
      ]
    },
    {
      "cell_type": "markdown",
      "metadata": {
        "id": "18G1pQG-wDIn"
      },
      "source": [
        "#### **Solution:**\n",
        "\n",
        "With a discrete action space actions are selected from a finite set of distinct choices. With a continuous action space actions are selected from a continuous range of values.\n",
        "\n",
        "All three environments (CartPole, Acrobot, MountainCar) have discrete action spaces, where the agent selects actions from a finite set of choices."
      ]
    },
    {
      "cell_type": "markdown",
      "metadata": {
        "id": "uT_iVuKu2o28"
      },
      "source": [
        "#### **Question 6:** Implement a simple constant policy (always choosing the same action) for each environment (CartPole, Acrobot, MountainCar). Run this policy for 10 steps, record the videos, and compare the results."
      ]
    },
    {
      "cell_type": "code",
      "execution_count": null,
      "metadata": {
        "id": "O42gajvOwI0s"
      },
      "outputs": [],
      "source": [
        "# Define a constant policy function that takes the environment as input\n",
        "def constant_policy(action):\n",
        "    # Returns a function that takes the environment and always returns the same action\n",
        "    def policy(env):\n",
        "        return action\n",
        "    return policy"
      ]
    },
    {
      "cell_type": "code",
      "execution_count": null,
      "metadata": {
        "id": "MGtI3BbYFdeQ"
      },
      "outputs": [],
      "source": [
        "# Record video for CartPole with a constant policy (e.g., always move right)\n",
        "record_video(\"CartPole-v1\", \"constant_right_policy_cartpole\", constant_policy(1), steps=10)\n",
        "\n",
        "# Record video for Acrobot with a constant policy (e.g., always apply a fixed torque)\n",
        "record_video(\"Acrobot-v1\", \"constant_torque_policy_acrobot\", constant_policy(1), steps=10)\n",
        "\n",
        "# Record video for MountainCar with a constant policy (e.g., always move right)\n",
        "record_video(\"MountainCar-v0\", \"constant_forward_policy_mountaincar\", constant_policy(2), steps=10)"
      ]
    },
    {
      "cell_type": "code",
      "execution_count": null,
      "metadata": {
        "colab": {
          "base_uri": "https://localhost:8080/",
          "height": 1000
        },
        "id": "YmCuTWEl4Z-V",
        "outputId": "0b1b3934-35b6-4170-c1b6-1add93a010f7"
      },
      "outputs": [
        {
          "data": {
            "text/html": [
              "<video alt=\"video/random_policy_cartpole.mp4\" autoplay\n",
              "                      loop controls style=\"height: 400px;\">\n",
              "                      <source src=\"data:video/mp4;base64,AAAAIGZ0eXBpc29tAAACAGlzb21pc28yYXZjMW1wNDEAAAAIZnJlZQAABxNtZGF0AAACrgYF//+q3EXpvebZSLeWLNgg2SPu73gyNjQgLSBjb3JlIDE1OSByMjk5MSAxNzcxYjU1IC0gSC4yNjQvTVBFRy00IEFWQyBjb2RlYyAtIENvcHlsZWZ0IDIwMDMtMjAxOSAtIGh0dHA6Ly93d3cudmlkZW9sYW4ub3JnL3gyNjQuaHRtbCAtIG9wdGlvbnM6IGNhYmFjPTEgcmVmPTMgZGVibG9jaz0xOjA6MCBhbmFseXNlPTB4MzoweDExMyBtZT1oZXggc3VibWU9NyBwc3k9MSBwc3lfcmQ9MS4wMDowLjAwIG1peGVkX3JlZj0xIG1lX3JhbmdlPTE2IGNocm9tYV9tZT0xIHRyZWxsaXM9MSA4eDhkY3Q9MSBjcW09MCBkZWFkem9uZT0yMSwxMSBmYXN0X3Bza2lwPTEgY2hyb21hX3FwX29mZnNldD0tMiB0aHJlYWRzPTMgbG9va2FoZWFkX3RocmVhZHM9MSBzbGljZWRfdGhyZWFkcz0wIG5yPTAgZGVjaW1hdGU9MSBpbnRlcmxhY2VkPTAgYmx1cmF5X2NvbXBhdD0wIGNvbnN0cmFpbmVkX2ludHJhPTAgYmZyYW1lcz0zIGJfcHlyYW1pZD0yIGJfYWRhcHQ9MSBiX2JpYXM9MCBkaXJlY3Q9MSB3ZWlnaHRiPTEgb3Blbl9nb3A9MCB3ZWlnaHRwPTIga2V5aW50PTI1MCBrZXlpbnRfbWluPTI1IHNjZW5lY3V0PTQwIGludHJhX3JlZnJlc2g9MCByY19sb29rYWhlYWQ9NDAgcmM9Y3JmIG1idHJlZT0xIGNyZj0yMy4wIHFjb21wPTAuNjAgcXBtaW49MCBxcG1heD02OSBxcHN0ZXA9NCBpcF9yYXRpbz0xLjQwIGFxPTE6MS4wMACAAAABy2WIhAA3//728P4FNjuY0JcRzeidMx+/Fbi6NDe9zgAAAwAAAwAACNCLwW1jsC2M+AAABagA5AeIYoYAiYqxUCV5A8Fo+UgCsAi1Hv6QcV0rPX2fU7AuIRc/pEiQJkIeaXwZK04Z+en3gvjgqNU0I8NNWG0FCgo/XpTUC/6au2hR/yPEEPf9qRlGSxvpN/XVAwAdyzvm0QlGhr8M9AOtyVjWiyqs7AAC6ATMxOLjmc94Zl0aURgBZetQb31Rfa+GD5TCcrZbggZRFRJHqrmkeXMOTouxVEqt6vSxzohjo6x1Rp26IeYt0HRwyIzHSdVB4+giH5JHTJAMcAYXxNSeiCnuVX/hKNyEGJGzSrk6rWZ5/X533YcTHD2qow+MdRN9yb4UFJOPzS8T1ZfRtC1z3JudSlsdAPC1nP/2gC1Rldr/JCHOb9JnIrpo8J3igURygeltqQkHhEVV1esY5zDsTPY4jsNBQ7GC6Lh5DSmuOEUL3cZPh3wyKVyQ9ZLQBAAsbftctAC976s3bAC5aSdGI+ZduZmkf9QjdvjPNLyFmcF2Egt71DriWhP4bbaAPRIEykGh8VAAIgAAAwLYuAAAAwAAAwAAAwAAAwA6YQAAAG5BmiRsQz/+nhAAAEVJs/3bu2T4NQCXXrVzGV1GveLgnmaSgzp99kivddYq/gkgl9J/HKzSOsbYWp/459LsT9hG2VO56lRge659nlZBiUG8ksxLNFNBvpp5+/zpVYpJqZJny0rVvv6Hq+AdusQf4AAAAE9BnkJ4hX8AAA6Dk+0So82yAEtaj2s5Ou2fHLwBVHe75RBZe//wWxVsckHwYnDc58e3e34rJebQhBegH5YrsUu8CWbl1iRkyA6ND2veqgK3AAAAIwGeYXRCfwAAEt9nr7jEDPADr1CJ5B0RGlhuGBzTgfHsPtmAAAAAGwGeY2pCfwAAEt21o/mDJyA3kxvdfVtft149IQAAAFNBmmhJqEFomUwIV//+OEAAAQ0+t4hBy3AHQ7tYfQ8PNPM6YGreojpgCHBf9rJ0M80NEM2IbvRomCvROFobzv/P2BWlp4R9/5BgWf6ayg/YWndGGQAAAEJBnoZFESwr/wAADoAOw6GfRAC3qAdlkiJZLMQ+T2+u5ycqAKpTAJzx365YckQjPjzENziPJgAAAwAABKZSLwywQ8EAAABCAZ6ldEJ/AAAS1pPMCJUe4vOreF30kh+lzxSLQLz++BYGLje0btBRrwfM57QAeBZkAQU5N44ggvpBSU3LTfvf4d4NAAAALgGep2pCfwAAAwKzHXHEe6JmXH7dSnmp1pkBZH8+je0mOWRTq1PhxtnP11lhUYAAAABmQZqpSahBbJlMCE///fEAAAMCnwUU+8/McRkAb+e5V85Kh0VABtsB5tyYZYcvtQ0Kd3+Ozf0BvolkjRgJseLalz5jk09Pj/XiyP2VmmECVIkWiCeXT7qulsIxTk4pe0uyDS7xC5leAAADim1vb3YAAABsbXZoZAAAAAAAAAAAAAAAAAAAA+gAAAFOAAEAAAEAAAAAAAAAAAAAAAABAAAAAAAAAAAAAAAAAAAAAQAAAAAAAAAAAAAAAAAAQAAAAAAAAAAAAAAAAAAAAAAAAAAAAAAAAAAAAAAAAAIAAAK0dHJhawAAAFx0a2hkAAAAAwAAAAAAAAAAAAAAAQAAAAAAAAFOAAAAAAAAAAAAAAAAAAAAAAABAAAAAAAAAAAAAAAAAAAAAQAAAAAAAAAAAAAAAAAAQAAAAAJgAAABkAAAAAAAJGVkdHMAAAAcZWxzdAAAAAAAAAABAAABTgAABAAAAQAAAAACLG1kaWEAAAAgbWRoZAAAAAAAAAAAAAAAAAAAPAAAABQAVcQAAAAAAC1oZGxyAAAAAAAAAAB2aWRlAAAAAAAAAAAAAAAAVmlkZW9IYW5kbGVyAAAAAddtaW5mAAAAFHZtaGQAAAABAAAAAAAAAAAAAAAkZGluZgAAABxkcmVmAAAAAAAAAAEAAAAMdXJsIAAAAAEAAAGXc3RibAAAAJdzdHNkAAAAAAAAAAEAAACHYXZjMQAAAAAAAAABAAAAAAAAAAAAAAAAAAAAAAJgAZAASAAAAEgAAAAAAAAAAQAAAAAAAAAAAAAAAAAAAAAAAAAAAAAAAAAAAAAAAAAAABj//wAAADFhdmNDAWQAHv/hABhnZAAerNlAmDOhAAADAAEAAAMAPA8WLZYBAAZo6+PLIsAAAAAYc3R0cwAAAAAAAAABAAAACgAAAgAAAAAUc3RzcwAAAAAAAAABAAAAAQAAAGBjdHRzAAAAAAAAAAoAAAABAAAEAAAAAAEAAAoAAAAAAQAABAAAAAABAAAAAAAAAAEAAAIAAAAAAQAACgAAAAABAAAEAAAAAAEAAAAAAAAAAQAAAgAAAAABAAAEAAAAABxzdHNjAAAAAAAAAAEAAAABAAAACgAAAAEAAAA8c3RzegAAAAAAAAAAAAAACgAABIEAAAByAAAAUwAAACcAAAAfAAAAVwAAAEYAAABGAAAAMgAAAGoAAAAUc3RjbwAAAAAAAAABAAAAMAAAAGJ1ZHRhAAAAWm1ldGEAAAAAAAAAIWhkbHIAAAAAAAAAAG1kaXJhcHBsAAAAAAAAAAAAAAAALWlsc3QAAAAlqXRvbwAAAB1kYXRhAAAAAQAAAABMYXZmNTguMjkuMTAw\" type=\"video/mp4\" />\n",
              "                 </video><br><video alt=\"video/random_policy_mountaincar.mp4\" autoplay\n",
              "                      loop controls style=\"height: 400px;\">\n",
              "                      <source src=\"data:video/mp4;base64,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\" type=\"video/mp4\" />\n",
              "                 </video><br><video alt=\"video/random_policy_acrobot.mp4\" autoplay\n",
              "                      loop controls style=\"height: 400px;\">\n",
              "                      <source src=\"data:video/mp4;base64,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\" type=\"video/mp4\" />\n",
              "                 </video><br><video alt=\"video/constant_right_policy_cartpole.mp4\" autoplay\n",
              "                      loop controls style=\"height: 400px;\">\n",
              "                      <source src=\"data:video/mp4;base64,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\" type=\"video/mp4\" />\n",
              "                 </video><br><video alt=\"video/constant_forward_policy_mountaincar.mp4\" autoplay\n",
              "                      loop controls style=\"height: 400px;\">\n",
              "                      <source src=\"data:video/mp4;base64,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\" type=\"video/mp4\" />\n",
              "                 </video><br><video alt=\"video/constant_torque_policy_acrobot.mp4\" autoplay\n",
              "                      loop controls style=\"height: 400px;\">\n",
              "                      <source src=\"data:video/mp4;base64,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\" type=\"video/mp4\" />\n",
              "                 </video>"
            ],
            "text/plain": [
              "<IPython.core.display.HTML object>"
            ]
          },
          "metadata": {},
          "output_type": "display_data"
        }
      ],
      "source": [
        "# Display recorded videos of constant policy interactions\n",
        "show_video(video_dir)"
      ]
    },
    {
      "cell_type": "markdown",
      "metadata": {
        "id": "JUNTHjHW4de-"
      },
      "source": [
        "# III. Implementation of REINFORCE  <a id='partIII'></a>"
      ]
    },
    {
      "cell_type": "markdown",
      "metadata": {
        "id": "Xbwj0aRk4drC"
      },
      "source": [
        "### Introduction\n",
        "\n",
        "Reinforce is an actor-based **on policy** method. The policy $\\pi_{\\theta}$ is parametrized by a function approximator (e.g. a neural network).\n",
        "\n",
        "Recall: $$ J(\\pi) = \\mathbb{E}_{\\tau \\sim \\pi}\\big[ \\sum_{t} \\gamma^t R_t \\mid x_0, \\pi \\big].$$\n",
        "\n",
        "To update the parameters $\\theta$ of the policy, one has to do gradient ascent: $\\theta_{k+1} = \\theta_{k} + \\alpha \\nabla_{\\theta}J(\\pi_{\\theta})|_{\\theta_{k}}$.\n",
        "\n",
        "**Advantages of this approach:**\n",
        "- Compared to a Q-learning approach, here the policy is directly parametrized so a small change of the parameters will not dramatically change the policy whereas this is not the case for Q-learning approaches.\n",
        "- The stochasticity of the policy allows exploration. In off policy learning, one has to deal with both a behaviour policy and an exploration policy."
      ]
    },
    {
      "cell_type": "markdown",
      "metadata": {
        "id": "tqHrXFSq4dtg"
      },
      "source": [
        "### Policy Gradient Theorem\n",
        "\n",
        "#### **Question 7: Prove the Policy Gradient Theorem:** $$ \\nabla_{\\theta} J(\\pi_{\\theta}) = \\mathbb{E}_{\\tau \\sim \\pi_{\\theta}}\\left[{\\sum_{t=0}^{T} \\nabla_{\\theta} \\log \\pi_{\\theta}(a_t |s_t) R(\\tau)}\\right]$$\n",
        "\n",
        "\n",
        "The policy gradient can be approximated with:\n",
        "$$ \\hat{g} = \\frac{1}{|\\mathcal{D}|} \\sum_{\\tau \\in \\mathcal{D}} \\sum_{t=0}^{T} \\nabla_{\\theta} \\log \\pi_{\\theta}(a_t |s_t) R(\\tau) $$"
      ]
    },
    {
      "cell_type": "markdown",
      "metadata": {
        "id": "DPkCSc_r4dvv"
      },
      "source": [
        "#### Hint 1"
      ]
    },
    {
      "cell_type": "markdown",
      "metadata": {
        "id": "b4gt9U4qhsRu"
      },
      "source": [
        "The probability of a trajectory $\\tau = (s_{0}, a_{0},\\dots, s_{T+1}$) with action chosen from $\\displaystyle \\pi_{\\theta}$ is $P(\\tau|\\theta) = \\rho_{0}(s_{0})\\prod_{t=0}^{T}P\\left(s_{t+1}|s_{t}, a_{t}\\right) \\pi_{\\theta}(a_{t}|s_{t})$"
      ]
    },
    {
      "cell_type": "markdown",
      "metadata": {
        "id": "lvlR6qR2hsU4"
      },
      "source": [
        "#### Hint 2"
      ]
    },
    {
      "cell_type": "markdown",
      "metadata": {
        "id": "bH7wC59thsa5"
      },
      "source": [
        "Gradient-log trick: $  \\nabla_{\\theta}P(\\tau|\\theta)= P(\\tau|\\theta)\\nabla_{\\theta}\\log P(\\tau|\\theta). $\n",
        "\n",
        "The policy gradient can therefore be approximated with:\n",
        "$$ \\hat{g} = \\frac{1}{|\\mathcal{D}|} \\sum_{\\tau \\in \\mathcal{D}} \\sum_{t=0}^{T} \\nabla_{\\theta} \\log \\pi_{\\theta}(a_t |s_t) R(\\tau) $$"
      ]
    },
    {
      "cell_type": "markdown",
      "metadata": {
        "id": "KKBa0hdFFp8W"
      },
      "source": [
        "#### **Solution**:\n",
        "\n",
        "The **Policy Gradient Theorem** states that:\n",
        "\n",
        "$$\n",
        "\\nabla_\\theta J(\\pi_\\theta) = \\mathbb{E}_{\\tau \\sim \\pi_\\theta} \\left[ \\sum_{t=0}^T \\nabla_\\theta \\log \\pi_\\theta(a_t | s_t) Q^{\\pi_\\theta}(s_t, a_t) \\right]\n",
        "$$\n",
        "\n",
        "where $J(\\pi_\\theta)$ is the expected cumulative reward under the policy $\\pi_\\theta$.\n",
        "\n",
        "---\n",
        "\n",
        "#### Step 1: Define the Objective Function\n",
        "\n",
        "The objective function $J(\\pi_\\theta)$ is defined as:\n",
        "\n",
        "$$\n",
        "J(\\pi_\\theta) = \\mathbb{E}_{\\tau \\sim \\pi_\\theta} \\left[ \\sum_{t=0}^T \\gamma^t R(s_t, a_t) \\right]\n",
        "$$\n",
        "\n",
        "Here, $\\tau = (s_0, a_0, s_1, a_1, \\ldots)$ is a trajectory sampled from the policy $\\pi_\\theta$, and $R(s_t, a_t)$ is the reward received at time $t$.\n",
        "\n",
        "---\n",
        "\n",
        "#### Step 2: Rewrite the Expectation Using the Probability of a Trajectory\n",
        "\n",
        "The expectation over trajectories can be rewritten as:\n",
        "\n",
        "$$\n",
        "J(\\pi_\\theta) = \\int_\\tau P_\\theta(\\tau) \\sum_{t=0}^T \\gamma^t R(s_t, a_t) d\\tau\n",
        "$$\n",
        "\n",
        "where $P_\\theta(\\tau)$ is the probability of the trajectory $\\tau$ under policy $\\pi_\\theta$, defined as:\n",
        "\n",
        "$$\n",
        "P_\\theta(\\tau) = p(s_0) \\prod_{t=0}^T \\pi_\\theta(a_t | s_t) p(s_{t+1} | s_t, a_t)\n",
        "$$\n",
        "\n",
        "---\n",
        "\n",
        "#### Step 3: Compute the Gradient of $J(\\pi_\\theta)$\n",
        "\n",
        "Taking the gradient of $J(\\pi_\\theta)$ with respect to $\\theta$:\n",
        "\n",
        "$$\n",
        "\\nabla_\\theta J(\\pi_\\theta) = \\nabla_\\theta \\int_\\tau P_\\theta(\\tau) \\sum_{t=0}^T \\gamma^t R(s_t, a_t) d\\tau\n",
        "$$\n",
        "\n",
        "Using the *log-derivative trick*, $\\nabla_\\theta P_\\theta(\\tau) = P_\\theta(\\tau) \\nabla_\\theta \\log P_\\theta(\\tau)$, we get:\n",
        "\n",
        "$$\n",
        "\\nabla_\\theta J(\\pi_\\theta) = \\int_\\tau P_\\theta(\\tau) \\nabla_\\theta \\log P_\\theta(\\tau) \\sum_{t=0}^T \\gamma^t R(s_t, a_t) d\\tau\n",
        "$$\n",
        "\n",
        "Rewriting the expectation:\n",
        "\n",
        "$$\n",
        "\\nabla_\\theta J(\\pi_\\theta) = \\mathbb{E}_{\\tau \\sim \\pi_\\theta} \\left[ \\nabla_\\theta \\log P_\\theta(\\tau) \\sum_{t=0}^T \\gamma^t R(s_t, a_t) \\right]\n",
        "$$\n",
        "\n",
        "---\n",
        "\n",
        "#### Step 4: Expand $\\log P_\\theta(\\tau)$\n",
        "\n",
        "The log-probability of a trajectory is:\n",
        "\n",
        "$$\n",
        "\\log P_\\theta(\\tau) = \\sum_{t=0}^T \\log \\pi_\\theta(a_t | s_t) + \\sum_{t=0}^T \\log p(s_{t+1} | s_t, a_t)\n",
        "$$\n",
        "\n",
        "The environment dynamics $p(s_{t+1} | s_t, a_t)$ are independent of $\\theta$, so their gradients vanish:\n",
        "\n",
        "$$\n",
        "\\nabla_\\theta \\log P_\\theta(\\tau) = \\sum_{t=0}^T \\nabla_\\theta \\log \\pi_\\theta(a_t | s_t)\n",
        "$$\n",
        "\n",
        "---\n",
        "\n",
        "#### Step 5: Substitute Back Into the Gradient\n",
        "\n",
        "Substituting $\\nabla_\\theta \\log P_\\theta(\\tau)$ into the gradient expression:\n",
        "\n",
        "$$\n",
        "\\nabla_\\theta J(\\pi_\\theta) = \\mathbb{E}_{\\tau \\sim \\pi_\\theta} \\left[ \\sum_{t=0}^T \\nabla_\\theta \\log \\pi_\\theta(a_t | s_t) \\sum_{t'=0}^T \\gamma^{t'} R(s_{t'}, a_{t'}) \\right]\n",
        "$$\n",
        "\n",
        "Reorganizing terms:\n",
        "\n",
        "$$\n",
        "\\nabla_\\theta J(\\pi_\\theta) = \\mathbb{E}_{\\tau \\sim \\pi_\\theta} \\left[ \\sum_{t=0}^T \\nabla_\\theta \\log \\pi_\\theta(a_t | s_t) Q^{\\pi_\\theta}(s_t, a_t) \\right]\n",
        "$$\n",
        "\n",
        "where $Q^{\\pi_\\theta}(s_t, a_t)$ is the expected cumulative reward starting from $(s_t, a_t)$, defined as:\n",
        "\n",
        "$$\n",
        "Q^{\\pi_\\theta}(s_t, a_t) = \\mathbb{E}_{\\tau \\sim \\pi_\\theta} \\left[ \\sum_{t'=t}^T \\gamma^{t'-t} R(s_{t'}, a_{t'}) \\right]\n",
        "$$\n",
        "\n",
        "---\n",
        "\n",
        "### Conclusion\n",
        "\n",
        "This completes the proof of the **Policy Gradient Theorem**:\n",
        "\n",
        "$$\n",
        "\\nabla_\\theta J(\\pi_\\theta) = \\mathbb{E}_{\\tau \\sim \\pi_\\theta} \\left[ \\sum_{t=0}^T \\nabla_\\theta \\log \\pi_\\theta(a_t | s_t) Q^{\\pi_\\theta}(s_t, a_t) \\right]\n",
        "$$"
      ]
    },
    {
      "cell_type": "markdown",
      "metadata": {
        "id": "aeMJV-LQh0GX"
      },
      "source": [
        "### **Implementation of vanilla REINFORCE**\n",
        "\n",
        "The code is splitted in two parts:\n",
        "* The Model class defines the architecture of our neural network which takes as input the current state and returns the policy,\n",
        "* The Agent class is responsible for the training and evaluation procedure.\n",
        "\n",
        "\n",
        "#### **Question 8:**\n",
        "\n",
        "You will need to\n",
        "- code the method `_make_returns`.\n",
        "- code the method `optimize_model`."
      ]
    },
    {
      "cell_type": "markdown",
      "metadata": {
        "id": "1uri_t190iBt"
      },
      "source": [
        "#### Model Class"
      ]
    },
    {
      "cell_type": "code",
      "execution_count": null,
      "metadata": {
        "id": "z5M_9E5y67nc"
      },
      "outputs": [],
      "source": [
        "# Model class to define the neural network\n",
        "class Model(nn.Module):\n",
        "    def __init__(self, dim_observation, n_actions):\n",
        "        super(Model, self).__init__()\n",
        "\n",
        "        self.n_actions = n_actions\n",
        "        self.dim_observation = dim_observation\n",
        "\n",
        "        self.net = nn.Sequential(\n",
        "            nn.Linear(in_features=self.dim_observation, out_features=16),\n",
        "            nn.ReLU(),\n",
        "            nn.Linear(in_features=16, out_features=8),\n",
        "            nn.ReLU(),\n",
        "            nn.Linear(in_features=8, out_features=self.n_actions),\n",
        "            nn.Softmax(dim=0)\n",
        "        )\n",
        "\n",
        "    def forward(self, state):\n",
        "        \"\"\"Forward pass through the network\"\"\"\n",
        "        return self.net(state)\n",
        "\n",
        "    def select_action(self, state):\n",
        "        \"\"\"Select action based on the policy (output of the network)\"\"\"\n",
        "        probs = self.forward(state)\n",
        "        # Sample action from distribution\n",
        "        action = torch.multinomial(probs, 1)\n",
        "        return action"
      ]
    },
    {
      "cell_type": "markdown",
      "metadata": {
        "id": "ko9sg2XR0kwl"
      },
      "source": [
        "#### Base Agent Class"
      ]
    },
    {
      "cell_type": "code",
      "execution_count": null,
      "metadata": {
        "id": "L_sCEXjj7DB6"
      },
      "outputs": [],
      "source": [
        "# Base Agent class\n",
        "class BaseAgent:\n",
        "    def __init__(self, config):\n",
        "        self.config = config\n",
        "        self.env = gym.make(config['env_id'],render_mode=\"rgb_array\")\n",
        "        # Set random seed for reproducibility\n",
        "        self.env.reset(seed=config['seed'])\n",
        "        torch.manual_seed(config['seed'])\n",
        "        np.random.seed(config['seed'])\n",
        "        # the model for the agent policy\n",
        "        self.model = Model(self.env.observation_space.shape[0], self.env.action_space.n)\n",
        "        self.gamma = config['gamma'] # the discount factor\n",
        "        self.optimizer = torch.optim.Adam(self.model.parameters(), lr=config['learning_rate'])\n",
        "        # Use RecordVideo for recording the environment's gameplay\n",
        "        self.video_folder = \"./gym-results/\" + config['video_folder_name']\n",
        "        self.monitor_env = RecordVideo(self.env, self.video_folder, episode_trigger=lambda episode: True)\n",
        "\n",
        "    # Method to implement\n",
        "    ## Code this function\n",
        "    def _make_returns(self, rewards):\n",
        "        \"\"\"Returns the cumulative discounted rewards at each time step\"\"\"\n",
        "        raise NotImplementedError\n",
        "\n",
        "    # Method to implement\n",
        "    ## Code this function\n",
        "    def optimize_model(self, n_trajectories):\n",
        "        \"\"\"Perform a gradient update using n_trajectories\n",
        "        Parameters\n",
        "        ----------\n",
        "        n_trajectories : int\n",
        "            The number of trajectories used to approximate the expectation card(D) in the formula above\n",
        "        Returns\n",
        "        -------\n",
        "        array\n",
        "            The cumulative discounted rewards of each trajectory\n",
        "        \"\"\"\n",
        "        raise NotImplementedError\n",
        "\n",
        "    def train(self, n_trajectories, n_update):\n",
        "        \"\"\"Training method\"\"\"\n",
        "        rewards = []\n",
        "        # loop over n_updates\n",
        "        for episode in range(n_update):\n",
        "            # optimize the model and store the rewards\n",
        "            rewards.append(self.optimize_model(n_trajectories))\n",
        "            print(f'Episode {episode + 1}/{n_update}: rewards {round(rewards[-1].mean(), 2)} +/- {round(rewards[-1].std(), 2)}')\n",
        "\n",
        "        # Plotting\n",
        "        r = pd.DataFrame((itertools.chain(*(itertools.product([i], rewards[i]) for i in range(len(rewards))))), columns=['Epoch', 'Reward'])\n",
        "        sns.lineplot(x=\"Epoch\", y=\"Reward\", data=r, errorbar='sd');\n",
        "\n",
        "    def evaluate(self):\n",
        "        \"\"\"Evaluate the agent on a single trajectory\"\"\"\n",
        "        observation, _ = self.monitor_env.reset()\n",
        "        observation = torch.tensor(observation, dtype=torch.float)\n",
        "        reward_episode = 0\n",
        "        done = False\n",
        "\n",
        "        while not done:\n",
        "            # select action based on agent policy\n",
        "            action = self.model.select_action(observation)\n",
        "            observation, reward, done, _, _ = self.monitor_env.step(int(action))\n",
        "            observation = torch.tensor(observation, dtype=torch.float)\n",
        "            # save reward\n",
        "            reward_episode += reward\n",
        "\n",
        "        self.monitor_env.close()\n",
        "        show_video(self.video_folder)\n",
        "        print(f'Reward: {reward_episode}')"
      ]
    },
    {
      "cell_type": "markdown",
      "metadata": {
        "id": "pYg7I2wl0oRp"
      },
      "source": [
        "#### Simple Agent"
      ]
    },
    {
      "cell_type": "code",
      "execution_count": null,
      "metadata": {
        "id": "ELr22gA47DbO"
      },
      "outputs": [],
      "source": [
        "class SimpleAgent(BaseAgent):\n",
        "    def optimize_model(self, n_trajectories):\n",
        "        \"\"\"Perform a gradient update using n_trajectories\"\"\"\n",
        "        weighted_logproba = torch.zeros(n_trajectories)\n",
        "        reward_trajectories = np.zeros(n_trajectories)\n",
        "        for i in range(n_trajectories):\n",
        "\n",
        "            # New episode\n",
        "            observation, _ = self.env.reset()\n",
        "            rewards_episode = []\n",
        "            logproba_episode = []\n",
        "            discount_factor = 1\n",
        "            observation = torch.tensor(observation, dtype=torch.float)\n",
        "            done = False\n",
        "\n",
        "\n",
        "            while not done:\n",
        "                action = self.model.select_action(observation)\n",
        "                logproba_episode.append(torch.log(self.model(observation))[action])\n",
        "\n",
        "                # Interaction with the environment\n",
        "                observation, reward, done, _, _ = self.env.step(int(action))\n",
        "                observation = torch.tensor(observation, dtype=torch.float)\n",
        "                rewards_episode.append(discount_factor * reward)\n",
        "                discount_factor *= self.gamma\n",
        "\n",
        "            # Calculate the cumulative reward\n",
        "            cum_rewards_episode = np.sum(rewards_episode)\n",
        "\n",
        "            # Sum the log-probabilities of the selected actions in this episode\n",
        "            logproba_sum = torch.sum(torch.stack(logproba_episode))\n",
        "\n",
        "            # Update weighted log probabilities\n",
        "            weighted_logproba[i] = cum_rewards_episode * logproba_sum\n",
        "            reward_trajectories[i] = cum_rewards_episode\n",
        "\n",
        "        # Compute the loss (negative log-likelihood weighted by the reward)\n",
        "        loss = - weighted_logproba.mean()\n",
        "        self.optimizer.zero_grad()\n",
        "        loss.backward() # Compute the gradients\n",
        "        self.optimizer.step() # Take a step using the gradients\n",
        "        return reward_trajectories\n"
      ]
    },
    {
      "cell_type": "code",
      "execution_count": null,
      "metadata": {
        "colab": {
          "base_uri": "https://localhost:8080/"
        },
        "id": "JP6vlcSa7G16",
        "outputId": "c7d7dcae-1315-4fda-ac00-960f45cc9493"
      },
      "outputs": [
        {
          "name": "stdout",
          "output_type": "stream",
          "text": [
            "Current config is:\n",
            "{'env_id': 'CartPole-v1', 'learning_rate': 0.01, 'seed': 1235, 'gamma': 0.99}\n"
          ]
        }
      ],
      "source": [
        "#@title Config {display-mode: \"form\", run: \"auto\"}\n",
        "\n",
        "env_id = 'CartPole-v1'  #@param [\"CartPole-v1\", \"Acrobot-v1\", \"MountainCar-v0\"]\n",
        "learning_rate = 0.01  #@param {type: \"number\"}\n",
        "gamma = 0.99  #@param {type: \"number\"}\n",
        "seed = 1235  #@param {type: \"integer\"}\n",
        "#@markdown ---\n",
        "\n",
        "config = {\n",
        "    'env_id': env_id,\n",
        "    'learning_rate': learning_rate,\n",
        "    'seed': seed,\n",
        "    'gamma': gamma\n",
        "}\n",
        "\n",
        "print(\"Current config is:\")\n",
        "print(config)\n"
      ]
    },
    {
      "cell_type": "code",
      "execution_count": null,
      "metadata": {
        "id": "EpW2kJIhvSO2"
      },
      "outputs": [],
      "source": [
        "config['video_folder_name'] = \"simple_agent\""
      ]
    },
    {
      "cell_type": "markdown",
      "metadata": {
        "id": "iaQmUc3e8jv3"
      },
      "source": [
        "#### Train Simple Agent"
      ]
    },
    {
      "cell_type": "code",
      "execution_count": null,
      "metadata": {
        "colab": {
          "base_uri": "https://localhost:8080/",
          "height": 623
        },
        "id": "5tG7PHuC7Lvt",
        "outputId": "936c0d97-ae95-4d9b-d1b2-949795da46b7"
      },
      "outputs": [
        {
          "name": "stdout",
          "output_type": "stream",
          "text": [
            "Episode 1/10: rewards 16.71 +/- 6.35\n",
            "Episode 2/10: rewards 20.84 +/- 10.94\n",
            "Episode 3/10: rewards 15.3 +/- 4.95\n",
            "Episode 4/10: rewards 16.48 +/- 9.36\n",
            "Episode 5/10: rewards 19.44 +/- 6.12\n",
            "Episode 6/10: rewards 20.29 +/- 5.44\n",
            "Episode 7/10: rewards 19.05 +/- 7.72\n",
            "Episode 8/10: rewards 15.64 +/- 11.35\n",
            "Episode 9/10: rewards 23.69 +/- 11.87\n",
            "Episode 10/10: rewards 19.58 +/- 8.61\n"
          ]
        },
        {
          "data": {
            "image/png": "[encoded data removed]",
            "text/plain": [
              "<Figure size 640x480 with 1 Axes>"
            ]
          },
          "metadata": {},
          "output_type": "display_data"
        }
      ],
      "source": [
        "# Initialize the agent\n",
        "agent = SimpleAgent(config)\n",
        "# Train the agent\n",
        "agent.train(n_trajectories=10, n_update=10)"
      ]
    },
    {
      "cell_type": "code",
      "execution_count": null,
      "metadata": {
        "colab": {
          "base_uri": "https://localhost:8080/",
          "height": 525
        },
        "id": "o7P33Cin7Lyf",
        "outputId": "c9271ddd-8161-4f48-80c1-42400e05febb"
      },
      "outputs": [
        {
          "name": "stdout",
          "output_type": "stream",
          "text": [
            "Moviepy - Building video /content/gym-results/simple_agent/rl-video-episode-0.mp4.\n",
            "Moviepy - Writing video /content/gym-results/simple_agent/rl-video-episode-0.mp4\n",
            "\n"
          ]
        },
        {
          "name": "stderr",
          "output_type": "stream",
          "text": []
        },
        {
          "name": "stdout",
          "output_type": "stream",
          "text": [
            "Moviepy - Done !\n",
            "Moviepy - video ready /content/gym-results/simple_agent/rl-video-episode-0.mp4\n"
          ]
        },
        {
          "data": {
            "text/html": [
              "<video alt=\"gym-results/simple_agent/rl-video-episode-0.mp4\" autoplay\n",
              "                      loop controls style=\"height: 400px;\">\n",
              "                      <source src=\"data:video/mp4;base64,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\" type=\"video/mp4\" />\n",
              "                 </video>"
            ],
            "text/plain": [
              "<IPython.core.display.HTML object>"
            ]
          },
          "metadata": {},
          "output_type": "display_data"
        },
        {
          "name": "stdout",
          "output_type": "stream",
          "text": [
            "Reward: 33.0\n"
          ]
        }
      ],
      "source": [
        "# Evaluate the agent after training\n",
        "agent.evaluate()"
      ]
    },
    {
      "cell_type": "markdown",
      "metadata": {
        "id": "5OBAdlqs93Qc"
      },
      "source": [
        "#### **Don't let the past distract you!**\n",
        "\n",
        "- The sum of rewards during one episode has a high variance which affects the performance of this version of **REINFORCE**.\n",
        "- To assess the quality of an action, it make more sense to take into consideration only the rewards obtained after taking this action.\n",
        "- It can be proven that $$  \\nabla_{\\theta} J(\\pi_{\\theta}) = \\mathbb{E}_{\\tau \\sim \\pi_{\\theta}}\\left[{\\sum_{t=0}^{T} \\nabla_{\\theta} \\log \\pi_{\\theta}(a_t |s_t) \\sum_{t'=t}^T \\gamma^{t'-t} R(s_{t'}, a_{t'}, s_{t'+1})}\\right].$$\n",
        "- **Bonus**: proof of this claim.\n",
        "- This has for effect to reduce the variance. Past rewards have zero mean but nonzero variance so they just add noise.  "
      ]
    },
    {
      "cell_type": "code",
      "execution_count": null,
      "metadata": {
        "id": "c889Aqco8qYK"
      },
      "outputs": [],
      "source": [
        "class EnhancedAgent(BaseAgent):\n",
        "    def select_action(self, state):\n",
        "        \"\"\"Select action based on the policy (output of the network)\"\"\"\n",
        "        probs = self.model(state)\n",
        "        # Sample action from distribution\n",
        "        action = torch.multinomial(probs, 1).item() # Get the action as an integer\n",
        "        logproba = torch.log(probs[action]) # Get the log probability of the selected action\n",
        "        return action, logproba\n",
        "\n",
        "    def optimize_model(self, n_trajectories):\n",
        "        \"\"\"Perform a gradient update using n_trajectories\"\"\"\n",
        "        weighted_logproba = torch.zeros(n_trajectories)\n",
        "        reward_trajectories = np.zeros(n_trajectories)\n",
        "\n",
        "        for i in range(n_trajectories):\n",
        "            # New episode\n",
        "            observation, _ = self.env.reset()\n",
        "            rewards_episode = []\n",
        "            logproba_episode = []\n",
        "            discount_factor = 1.0\n",
        "            observation = torch.tensor(observation, dtype=torch.float)\n",
        "            terminated = False\n",
        "            truncated = False\n",
        "\n",
        "            # Interact with the environment\n",
        "            while not terminated and not truncated:\n",
        "                # Take an action and save log probability\n",
        "                action, logproba = self.select_action(observation)  # Assuming this method exists\n",
        "                next_observation, reward, terminated, truncated, _ = self.env.step(action)  # Updated to unpack 5 values\n",
        "                rewards_episode.append(reward)\n",
        "                logproba_episode.append(logproba)\n",
        "\n",
        "                # Prepare for the next step\n",
        "                observation = torch.tensor(next_observation, dtype=torch.float)\n",
        "\n",
        "            # Calculate the cumulative reward for the trajectory\n",
        "            cumulative_rewards = []\n",
        "            g = 0\n",
        "            for r in reversed(rewards_episode):\n",
        "                g = r + self.gamma * g\n",
        "                cumulative_rewards.insert(0, g)  # Insert at the beginning to reverse the list\n",
        "\n",
        "            # Normalize cumulative rewards for variance reduction\n",
        "            cumulative_rewards = torch.tensor(cumulative_rewards, dtype=torch.float)\n",
        "            cumulative_rewards = (cumulative_rewards - cumulative_rewards.mean()) / (\n",
        "                cumulative_rewards.std() + 1e-8\n",
        "            )\n",
        "\n",
        "            # Sum the log-probabilities of the selected actions in this episode\n",
        "            logproba_episode = torch.stack(logproba_episode)  # Convert to a single tensor\n",
        "            weighted_logproba[i] = (logproba_episode * cumulative_rewards).sum()\n",
        "\n",
        "            # Store the total reward for tracking\n",
        "            reward_trajectories[i] = sum(rewards_episode)\n",
        "\n",
        "        # Compute the loss (negative log-likelihood weighted by the reward)\n",
        "        loss = -weighted_logproba.mean()\n",
        "        self.optimizer.zero_grad()\n",
        "        loss.backward()  # Compute the gradients\n",
        "        self.optimizer.step()  # Take a step using the gradients\n",
        "\n",
        "        return reward_trajectories"
      ]
    },
    {
      "cell_type": "code",
      "execution_count": null,
      "metadata": {
        "colab": {
          "base_uri": "https://localhost:8080/"
        },
        "id": "oBv9yn4Nlu7e",
        "outputId": "9be88fc7-440e-4fae-9e6d-4451b35f5f38"
      },
      "outputs": [
        {
          "name": "stdout",
          "output_type": "stream",
          "text": [
            "Current config_enhanced is:\n",
            "{'env_id': 'CartPole-v1', 'learning_rate': 0.03, 'seed': 1, 'gamma': 0.99}\n"
          ]
        }
      ],
      "source": [
        "#@title Config Enhanced {display-mode: \"form\", run: \"auto\"}\n",
        "\n",
        "env_id = 'CartPole-v1'  #@param [\"CartPole-v1\", \"Acrobot-v1\", \"MountainCar-v1\"]\n",
        "learning_rate = 0.03  #@param {type: \"number\"}\n",
        "gamma = 0.99  #@param {type: \"number\"}\n",
        "seed = 1  #@param {type: \"integer\"}\n",
        "#@markdown ---\n",
        "\n",
        "config_enhanced = {\n",
        "    'env_id': env_id,\n",
        "    'learning_rate': learning_rate,\n",
        "    'seed': seed,\n",
        "    'gamma': gamma\n",
        "}\n",
        "\n",
        "print(\"Current config_enhanced is:\")\n",
        "print(config_enhanced)"
      ]
    },
    {
      "cell_type": "markdown",
      "metadata": {
        "id": "NVFI24dMlown"
      },
      "source": [
        "### Train Enhanced Agent"
      ]
    },
    {
      "cell_type": "code",
      "execution_count": null,
      "metadata": {
        "id": "hMZe3PlGx4mB"
      },
      "outputs": [],
      "source": [
        "config_enhanced['video_folder_name'] = \"enhanced_agent\""
      ]
    },
    {
      "cell_type": "code",
      "execution_count": null,
      "metadata": {
        "colab": {
          "base_uri": "https://localhost:8080/"
        },
        "id": "CphFD3iql55z",
        "outputId": "b5e26a17-33a5-4c47-d261-d4175c8df9b2"
      },
      "outputs": [
        {
          "name": "stderr",
          "output_type": "stream",
          "text": [
            "/usr/local/lib/python3.10/dist-packages/gymnasium/wrappers/record_video.py:87: UserWarning: \u001b[33mWARN: Overwriting existing videos at /content/gym-results/enhanced_agent folder (try specifying a different `video_folder` for the `RecordVideo` wrapper if this is not desired)\u001b[0m\n",
            "  logger.warn(\n"
          ]
        }
      ],
      "source": [
        "agent = EnhancedAgent(config_enhanced)"
      ]
    },
    {
      "cell_type": "code",
      "execution_count": null,
      "metadata": {
        "colab": {
          "base_uri": "https://localhost:8080/",
          "height": 970
        },
        "id": "dJZafuSYlj47",
        "outputId": "87f8fbe1-ddaa-4429-9cde-84d282a8d89d"
      },
      "outputs": [
        {
          "name": "stdout",
          "output_type": "stream",
          "text": [
            "Episode 1/30: rewards 18.7 +/- 4.63\n",
            "Episode 2/30: rewards 29.0 +/- 18.77\n",
            "Episode 3/30: rewards 16.6 +/- 7.12\n",
            "Episode 4/30: rewards 24.6 +/- 11.38\n",
            "Episode 5/30: rewards 19.4 +/- 13.13\n",
            "Episode 6/30: rewards 23.9 +/- 5.24\n",
            "Episode 7/30: rewards 30.1 +/- 12.45\n",
            "Episode 8/30: rewards 36.0 +/- 23.44\n",
            "Episode 9/30: rewards 29.2 +/- 13.57\n",
            "Episode 10/30: rewards 33.1 +/- 13.49\n",
            "Episode 11/30: rewards 45.0 +/- 22.88\n",
            "Episode 12/30: rewards 38.0 +/- 17.22\n",
            "Episode 13/30: rewards 80.2 +/- 27.52\n",
            "Episode 14/30: rewards 94.4 +/- 50.58\n",
            "Episode 15/30: rewards 91.5 +/- 40.22\n",
            "Episode 16/30: rewards 91.5 +/- 32.23\n",
            "Episode 17/30: rewards 107.4 +/- 53.4\n",
            "Episode 18/30: rewards 147.4 +/- 76.68\n",
            "Episode 19/30: rewards 128.6 +/- 44.53\n",
            "Episode 20/30: rewards 194.7 +/- 86.14\n",
            "Episode 21/30: rewards 232.0 +/- 45.91\n",
            "Episode 22/30: rewards 161.0 +/- 22.57\n",
            "Episode 23/30: rewards 140.1 +/- 14.58\n",
            "Episode 24/30: rewards 134.6 +/- 9.39\n",
            "Episode 25/30: rewards 118.8 +/- 6.65\n",
            "Episode 26/30: rewards 99.5 +/- 30.33\n",
            "Episode 27/30: rewards 96.3 +/- 30.54\n",
            "Episode 28/30: rewards 61.4 +/- 38.4\n",
            "Episode 29/30: rewards 112.2 +/- 9.0\n",
            "Episode 30/30: rewards 111.4 +/- 7.2\n"
          ]
        },
        {
          "data": {
            "image/png": "[encoded data removed]",
            "text/plain": [
              "<Figure size 640x480 with 1 Axes>"
            ]
          },
          "metadata": {},
          "output_type": "display_data"
        }
      ],
      "source": [
        "agent.train(n_trajectories=10, n_update=30)"
      ]
    },
    {
      "cell_type": "code",
      "execution_count": null,
      "metadata": {
        "colab": {
          "base_uri": "https://localhost:8080/",
          "height": 525
        },
        "id": "R3sCxiUcx_kH",
        "outputId": "b5471c29-85f6-4c43-bd94-25394ec7b7f7"
      },
      "outputs": [
        {
          "name": "stdout",
          "output_type": "stream",
          "text": [
            "Moviepy - Building video /content/gym-results/enhanced_agent/rl-video-episode-0.mp4.\n",
            "Moviepy - Writing video /content/gym-results/enhanced_agent/rl-video-episode-0.mp4\n",
            "\n"
          ]
        },
        {
          "name": "stderr",
          "output_type": "stream",
          "text": [
            "                                                              "
          ]
        },
        {
          "name": "stdout",
          "output_type": "stream",
          "text": [
            "Moviepy - Done !\n",
            "Moviepy - video ready /content/gym-results/enhanced_agent/rl-video-episode-0.mp4\n"
          ]
        },
        {
          "name": "stderr",
          "output_type": "stream",
          "text": [
            "\r"
          ]
        },
        {
          "data": {
            "text/html": [
              "<video alt=\"gym-results/enhanced_agent/rl-video-episode-0.mp4\" autoplay\n",
              "                      loop controls style=\"height: 400px;\">\n",
              "                      <source src=\"data:video/mp4;base64,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\" type=\"video/mp4\" />\n",
              "                 </video>"
            ],
            "text/plain": [
              "<IPython.core.display.HTML object>"
            ]
          },
          "metadata": {},
          "output_type": "display_data"
        },
        {
          "name": "stdout",
          "output_type": "stream",
          "text": [
            "Reward: 100.0\n"
          ]
        }
      ],
      "source": [
        "agent.evaluate()"
      ]
    }
  ],
  "metadata": {
    "colab": {
      "provenance": []
    },
    "kernelspec": {
      "display_name": "Python 3 (ipykernel)",
      "language": "python",
      "name": "python3"
    },
    "language_info": {
      "codemirror_mode": {
        "name": "ipython",
        "version": 3
      },
      "file_extension": ".py",
      "mimetype": "text/x-python",
      "name": "python",
      "nbconvert_exporter": "python",
      "pygments_lexer": "ipython3",
      "version": "3.11.5"
    }
  },
  "nbformat": 4,
  "nbformat_minor": 0
}